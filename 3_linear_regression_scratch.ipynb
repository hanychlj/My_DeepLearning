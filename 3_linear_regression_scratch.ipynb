{
 "cells": [
  {
   "cell_type": "markdown",
   "id": "7860f23a",
   "metadata": {},
   "source": [
    "# 线性回归的从零开始实现"
   ]
  },
  {
   "cell_type": "code",
   "execution_count": 62,
   "id": "ba7b5c29",
   "metadata": {},
   "outputs": [],
   "source": [
    "%matplotlib inline\n",
    "import torch\n",
    "import random\n",
    "import sys\n",
    "import matplotlib.pyplot as plt"
   ]
  },
  {
   "cell_type": "markdown",
   "id": "61163501",
   "metadata": {},
   "source": [
    "## 生成数据\n",
    "X为随机生成的一组数据，符合正态分布，y为Xw+b的准确值，但是要在每个y上叠加一个小误差（噪声），噪声也同样符合正态分布。"
   ]
  },
  {
   "cell_type": "code",
   "execution_count": null,
   "id": "5ef1585b",
   "metadata": {},
   "outputs": [],
   "source": [
    "def synthetic_data(w, b, num_examples):\n",
    "    X = torch.normal(0, 1, (num_examples, len(w))) # 正态分布\n",
    "    y = torch.matmul(X, w) + b # 矩阵乘法\n",
    "    y += torch.normal(0, 0.01, y.shape) # 添加\n",
    "    return X, y.reshape((-1, 1))"
   ]
  },
  {
   "cell_type": "code",
   "execution_count": null,
   "id": "691b387d",
   "metadata": {},
   "outputs": [],
   "source": [
    "# 设置种子\n",
    "true_w = torch.tensor([5, -1.9])\n",
    "true_b = 8.8\n",
    "features, labels = synthetic_data(true_w, true_b, 1000)"
   ]
  },
  {
   "cell_type": "code",
   "execution_count": 65,
   "id": "57946147",
   "metadata": {},
   "outputs": [
    {
     "data": {
      "image/png": "[encoded data removed]",
      "text/plain": [
       "<Figure size 600x400 with 1 Axes>"
      ]
     },
     "metadata": {},
     "output_type": "display_data"
    }
   ],
   "source": [
    "# 绘制散点图\n",
    "plt.figure(figsize=(6, 4))\n",
    "plt.scatter(features[:, (1)].detach().numpy(), labels.detach().numpy(), 1);"
   ]
  },
  {
   "cell_type": "markdown",
   "id": "720b1fdb",
   "metadata": {},
   "source": [
    "## 读取数据集\n",
    "data_iter是一个生成器，每次生成batch_size对数据，每对数据包含一个feature和一个label, yield的作用是将这组数据返回给迭代器，并中断函数的运行。下次运行时data_iter不从头开始，而是从上一次中断的地方继续开始。"
   ]
  },
  {
   "cell_type": "code",
   "execution_count": 66,
   "id": "73a3d1b1",
   "metadata": {},
   "outputs": [],
   "source": [
    "# 批量生成数据的迭代器\n",
    "# batch_size为每个batch的大小，features和labels为特征和标签\n",
    "def data_iter(batch_size, features, labels):\n",
    "    num_examples = len(features)\n",
    "    indices = list(range(num_examples)) # 生成索引\n",
    "    random.shuffle(indices) # 打乱数据集\n",
    "    for i in range(0, num_examples, batch_size):\n",
    "        batch_indices = torch.tensor(\n",
    "            indices[i: min(i + batch_size, num_examples)]) # min有效处理不能整除的情况\n",
    "        yield features[batch_indices], labels[batch_indices] # 每次返回一个batch"
   ]
  },
  {
   "cell_type": "code",
   "execution_count": 67,
   "id": "d8dfda95",
   "metadata": {},
   "outputs": [
    {
     "name": "stdout",
     "output_type": "stream",
     "text": [
      "tensor([[-0.1902,  0.7203],\n",
      "        [-0.0084, -0.4721],\n",
      "        [ 0.8181, -0.5415],\n",
      "        [ 0.9991, -0.5544],\n",
      "        [ 0.8146, -1.2885],\n",
      "        [-1.0020,  0.8887],\n",
      "        [ 0.4235,  0.0161],\n",
      "        [ 1.5917, -1.9619],\n",
      "        [ 1.6499,  0.1879],\n",
      "        [ 0.6761,  0.4962]]) \n",
      " tensor([[ 6.4736],\n",
      "        [ 9.6595],\n",
      "        [13.8983],\n",
      "        [14.8588],\n",
      "        [15.3097],\n",
      "        [ 2.1119],\n",
      "        [10.8975],\n",
      "        [20.4848],\n",
      "        [16.7040],\n",
      "        [11.2434]])\n"
     ]
    }
   ],
   "source": [
    "# 测试data_iter函数\n",
    "batch_size = 10\n",
    "\n",
    "for X, y in data_iter(batch_size, features, labels):\n",
    "    print(X, '\\n', y)\n",
    "    break"
   ]
  },
  {
   "cell_type": "markdown",
   "id": "51ce966b",
   "metadata": {},
   "source": [
    "## 初始化模型参数\n",
    "将requires_grad设为true可以让我们通过自动微分来计算梯度。\n",
    "将w初始化为均值为0，标准差为0.01的正态分布，b初始化为0。"
   ]
  },
  {
   "cell_type": "code",
   "execution_count": 68,
   "id": "99a4c355",
   "metadata": {},
   "outputs": [],
   "source": [
    "w = torch.normal(0, 0.01, size=(2,1), requires_grad=True)\n",
    "# w不可初始化为零，否则梯度下降无法更新\n",
    "# 这会导致所有样本梯度相同，无法打破对称性\n",
    "b = torch.zeros(1, requires_grad=True)"
   ]
  },
  {
   "cell_type": "markdown",
   "id": "69933b2a",
   "metadata": {},
   "source": [
    "## 定义模型\n",
    "定义一个线性回归模型，将模型的输入和参数同模型的输出结合起来。"
   ]
  },
  {
   "cell_type": "code",
   "execution_count": 69,
   "id": "12fe5f54",
   "metadata": {},
   "outputs": [],
   "source": [
    "def linreg(X, w, b):\n",
    "    return torch.matmul(X, w) + b"
   ]
  },
  {
   "cell_type": "markdown",
   "id": "e4d766ba",
   "metadata": {},
   "source": [
    "## 定义损失函数\n",
    "因为我们要使得损失函数尽可能地小，所以我们需要定义损失函数。我们使用平方损失函数。在实现中，我们需要将真实值y的形状转换为和预测值y_hat的形状相同。"
   ]
  },
  {
   "cell_type": "code",
   "execution_count": 70,
   "id": "3119e7d0",
   "metadata": {},
   "outputs": [],
   "source": [
    "def squared_loss(y_hat, y):\n",
    "    return (y_hat - y.reshape(y_hat.shape)) ** 2 / 2"
   ]
  },
  {
   "cell_type": "markdown",
   "id": "f70d9e6d",
   "metadata": {},
   "source": [
    "## 定义优化算法\n",
    "在每一步中，使用从数据集中随机抽取的一个小批量，然后根据参数计算损失的梯度。 接下来，朝着减少损失的方向更新我们的参数。"
   ]
  },
  {
   "cell_type": "code",
   "execution_count": 71,
   "id": "1707e1a7",
   "metadata": {},
   "outputs": [],
   "source": [
    "def sgd(params, lr, batch_size): \n",
    "    with torch.no_grad(): # 使用torch.no_grad()来禁用梯度计算，优化时不涉及到梯度\n",
    "        for param in params:\n",
    "            param -= lr * param.grad / batch_size\n",
    "            param.grad.zero_()"
   ]
  },
  {
   "cell_type": "markdown",
   "id": "eb569edb",
   "metadata": {},
   "source": [
    "## 训练\n",
    "在每次迭代中，我们读取一小批量训练样本，并通过我们的模型来获得一组预测。 计算完损失后，我们开始反向传播，存储每个参数的梯度。 最后，我们调用优化算法sgd来更新模型参数。\n",
    "在每个迭代周期（epoch）中，我们使用data_iter函数遍历整个数据集， 并将训练数据集中所有样本都使用一次（假设样本数能够被批量大小整除）。 这里的迭代周期个数num_epochs和学习率lr都是超参数，分别设为3和0.03。"
   ]
  },
  {
   "cell_type": "code",
   "execution_count": 72,
   "id": "ffcfe9cb",
   "metadata": {},
   "outputs": [
    {
     "name": "stdout",
     "output_type": "stream",
     "text": [
      "epoch 1, loss 0.132644\n",
      "epoch 2, loss 0.000415\n",
      "epoch 3, loss 0.000052\n"
     ]
    }
   ],
   "source": [
    "lr = 0.03\n",
    "num_epochs = 3\n",
    "net = linreg\n",
    "loss = squared_loss\n",
    "\n",
    "for epoch in range(num_epochs):\n",
    "    for X, y in data_iter(batch_size, features, labels):\n",
    "        l = loss(net(X, w, b), y)  # X和y的小批量损失\n",
    "        # 因为l形状是(batch_size,1)，而不是一个标量。l中的所有元素被加到一起，并以此计算关于[w,b]的梯度\n",
    "        l.sum().backward()\n",
    "        sgd([w, b], lr, batch_size)  # 使用参数的梯度更新参数\n",
    "    with torch.no_grad():\n",
    "        train_l = loss(net(features, w, b), labels)\n",
    "        print(f'epoch {epoch + 1}, loss {float(train_l.mean()):f}')"
   ]
  },
  {
   "cell_type": "markdown",
   "id": "e8a1efa0",
   "metadata": {},
   "source": [
    "由于我们知道真正的w和b是什么，因此我们可以进行验证："
   ]
  },
  {
   "cell_type": "code",
   "execution_count": 73,
   "id": "ff28058c",
   "metadata": {},
   "outputs": [
    {
     "name": "stdout",
     "output_type": "stream",
     "text": [
      "w的估计误差: tensor([ 0.0010, -0.0002], grad_fn=<SubBackward0>)\n",
      "b的估计误差: tensor([0.0007], grad_fn=<RsubBackward1>)\n"
     ]
    }
   ],
   "source": [
    "print(f'w的估计误差: {true_w - w.reshape(true_w.shape)}')\n",
    "print(f'b的估计误差: {true_b - b}')"
   ]
  }
 ],
 "metadata": {
  "kernelspec": {
   "display_name": "Python 3",
   "language": "python",
   "name": "python3"
  },
  "language_info": {
   "codemirror_mode": {
    "name": "ipython",
    "version": 3
   },
   "file_extension": ".py",
   "mimetype": "text/x-python",
   "name": "python",
   "nbconvert_exporter": "python",
   "pygments_lexer": "ipython3",
   "version": "3.10.18"
  }
 },
 "nbformat": 4,
 "nbformat_minor": 5
}
