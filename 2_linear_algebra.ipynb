{
 "cells": [
  {
   "cell_type": "code",
   "execution_count": 1,
   "id": "7dea185a",
   "metadata": {},
   "outputs": [],
   "source": [
    "import torch"
   ]
  },
  {
   "cell_type": "markdown",
   "id": "de075cd9",
   "metadata": {},
   "source": [
    "# 线性代数相关操作\n",
    "## 矩阵\n",
    "矩阵转置可以通过.T操作执行，对三维及以上的向量最好不要进行转置操作"
   ]
  },
  {
   "cell_type": "code",
   "execution_count": 9,
   "id": "b149b500",
   "metadata": {},
   "outputs": [
    {
     "data": {
      "text/plain": [
       "(tensor([[ 0.,  1.,  2.,  3.],\n",
       "         [ 4.,  5.,  6.,  7.],\n",
       "         [ 8.,  9., 10., 11.]]),\n",
       " tensor([[ 0.,  4.,  8.],\n",
       "         [ 1.,  5.,  9.],\n",
       "         [ 2.,  6., 10.],\n",
       "         [ 3.,  7., 11.]]))"
      ]
     },
     "execution_count": 9,
     "metadata": {},
     "output_type": "execute_result"
    }
   ],
   "source": [
    "A = torch.arange(12,dtype=torch.float32).reshape(3, 4)\n",
    "A, A.T"
   ]
  },
  {
   "cell_type": "markdown",
   "id": "ac3e8a1c",
   "metadata": {},
   "source": [
    ".sum除了可以求和以外，还可以用于降维："
   ]
  },
  {
   "cell_type": "code",
   "execution_count": null,
   "id": "33ffe998",
   "metadata": {},
   "outputs": [
    {
     "data": {
      "text/plain": [
       "(tensor([[ 0,  1,  2,  3],\n",
       "         [ 4,  5,  6,  7],\n",
       "         [ 8,  9, 10, 11]]),\n",
       " tensor(66),\n",
       " tensor([12, 15, 18, 21]),\n",
       " tensor([ 6, 22, 38]),\n",
       " tensor([[ 6],\n",
       "         [22],\n",
       "         [38]]),\n",
       " tensor([[66]]))"
      ]
     },
     "execution_count": 6,
     "metadata": {},
     "output_type": "execute_result"
    }
   ],
   "source": [
    "A, A.sum(), A.sum(axis=0), A.sum(axis=1), A.sum(axis=1, keepdim=True), A.sum(axis=[0,1])"
   ]
  },
  {
   "cell_type": "markdown",
   "id": "111e078d",
   "metadata": {},
   "source": [
    "通过.mean函数我们可以求出矩阵中所有元素的平均值："
   ]
  },
  {
   "cell_type": "code",
   "execution_count": 10,
   "id": "9f560227",
   "metadata": {},
   "outputs": [
    {
     "data": {
      "text/plain": [
       "(tensor(5.5000), tensor(5.5000))"
      ]
     },
     "execution_count": 10,
     "metadata": {},
     "output_type": "execute_result"
    }
   ],
   "source": [
    "A.mean(), A.sum()/ A.numel()"
   ]
  },
  {
   "cell_type": "markdown",
   "id": "36ee68ca",
   "metadata": {},
   "source": [
    "同样，计算平均值的函数也可以沿指定轴降低维度："
   ]
  },
  {
   "cell_type": "code",
   "execution_count": 11,
   "id": "3a74f15e",
   "metadata": {},
   "outputs": [
    {
     "data": {
      "text/plain": [
       "(tensor([4., 5., 6., 7.]), tensor([4., 5., 6., 7.]))"
      ]
     },
     "execution_count": 11,
     "metadata": {},
     "output_type": "execute_result"
    }
   ],
   "source": [
    "A.mean(axis = 0), A.sum(axis=0)/ A.shape[0]"
   ]
  },
  {
   "cell_type": "markdown",
   "id": "b17b0472",
   "metadata": {},
   "source": [
    "如果我们想沿某个轴计算A元素的累积总和， 比如axis=0（按行计算），可以调用cumsum函数。 此函数不会沿任何轴降低输入张量的维度。"
   ]
  },
  {
   "cell_type": "code",
   "execution_count": 12,
   "id": "263bce42",
   "metadata": {},
   "outputs": [
    {
     "data": {
      "text/plain": [
       "(tensor([[ 0.,  1.,  2.,  3.],\n",
       "         [ 4.,  6.,  8., 10.],\n",
       "         [12., 15., 18., 21.]]),\n",
       " tensor([[ 0.,  1.,  3.,  6.],\n",
       "         [ 4.,  9., 15., 22.],\n",
       "         [ 8., 17., 27., 38.]]))"
      ]
     },
     "execution_count": 12,
     "metadata": {},
     "output_type": "execute_result"
    }
   ],
   "source": [
    "A.cumsum(axis=0), A.cumsum(axis=1)"
   ]
  },
  {
   "cell_type": "markdown",
   "id": "0b5a90f6",
   "metadata": {},
   "source": [
    "## 点积\n",
    "两个向量进行点积运算可以使用torch.dot(x,y)"
   ]
  },
  {
   "cell_type": "code",
   "execution_count": 18,
   "id": "bb74ef9e",
   "metadata": {},
   "outputs": [
    {
     "data": {
      "text/plain": [
       "(tensor(60.), tensor(60.))"
      ]
     },
     "execution_count": 18,
     "metadata": {},
     "output_type": "execute_result"
    }
   ],
   "source": [
    "x = torch.tensor([1, 2, 3, 4], dtype=torch.float32)\n",
    "y = torch.tensor([4, 5, 6, 7], dtype=torch.float32)\n",
    "torch.dot(x, y), torch.sum(x * y)"
   ]
  },
  {
   "cell_type": "markdown",
   "id": "9a70730c",
   "metadata": {},
   "source": [
    "## 矩阵-向量积\n",
    "我们可以通过torch.mv(A,x)来计算矩阵A和向量x的乘积，注意：A的列维数（沿轴1的长度）必须与x的维数（其长度）相同"
   ]
  },
  {
   "cell_type": "code",
   "execution_count": 19,
   "id": "53ea9f5b",
   "metadata": {},
   "outputs": [
    {
     "data": {
      "text/plain": [
       "tensor([ 20.,  60., 100.])"
      ]
     },
     "execution_count": 19,
     "metadata": {},
     "output_type": "execute_result"
    }
   ],
   "source": [
    "torch.mv(A,x)"
   ]
  },
  {
   "cell_type": "markdown",
   "id": "d38bf585",
   "metadata": {},
   "source": [
    "## 矩阵乘法\n",
    "我们可以通过torch.mm(A,B)来计算矩阵A和矩阵B的乘积："
   ]
  },
  {
   "cell_type": "code",
   "execution_count": 20,
   "id": "3da72bf7",
   "metadata": {},
   "outputs": [
    {
     "data": {
      "text/plain": [
       "tensor([[ 6.,  6.,  6.],\n",
       "        [22., 22., 22.],\n",
       "        [38., 38., 38.]])"
      ]
     },
     "execution_count": 20,
     "metadata": {},
     "output_type": "execute_result"
    }
   ],
   "source": [
    "B = torch.ones(4, 3)\n",
    "torch.mm(A, B)"
   ]
  },
  {
   "cell_type": "markdown",
   "id": "01fbadec",
   "metadata": {},
   "source": [
    "# 范数\n",
    "我们可以通过.norm来计算张量的L_2范数："
   ]
  },
  {
   "cell_type": "code",
   "execution_count": 25,
   "id": "fb7fe779",
   "metadata": {},
   "outputs": [
    {
     "data": {
      "text/plain": [
       "(tensor(5.), tensor(6.))"
      ]
     },
     "execution_count": 25,
     "metadata": {},
     "output_type": "execute_result"
    }
   ],
   "source": [
    "a = torch.tensor([3,-4], dtype=torch.float32)\n",
    "b = torch.ones((4,9), dtype=torch.float32) # 矩阵也可以这么计算\n",
    "a.norm(), b.norm()"
   ]
  },
  {
   "cell_type": "markdown",
   "id": "095b999a",
   "metadata": {},
   "source": [
    "我们可以通过结合绝对值和求和来计算张量的L_1范数"
   ]
  },
  {
   "cell_type": "code",
   "execution_count": 24,
   "id": "23f7eed6",
   "metadata": {},
   "outputs": [
    {
     "data": {
      "text/plain": [
       "(tensor(7.), tensor(36.))"
      ]
     },
     "execution_count": 24,
     "metadata": {},
     "output_type": "execute_result"
    }
   ],
   "source": [
    "torch.abs(a).sum(), torch.abs(b).sum()"
   ]
  }
 ],
 "metadata": {
  "kernelspec": {
   "display_name": "Python 3",
   "language": "python",
   "name": "python3"
  },
  "language_info": {
   "codemirror_mode": {
    "name": "ipython",
    "version": 3
   },
   "file_extension": ".py",
   "mimetype": "text/x-python",
   "name": "python",
   "nbconvert_exporter": "python",
   "pygments_lexer": "ipython3",
   "version": "3.10.18"
  }
 },
 "nbformat": 4,
 "nbformat_minor": 5
}
