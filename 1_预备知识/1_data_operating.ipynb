{
 "cells": [
  {
   "cell_type": "markdown",
   "id": "42607481",
   "metadata": {},
   "source": [
    "# 数据的基本操作\n",
    "## 创建向量"
   ]
  },
  {
   "cell_type": "code",
   "execution_count": 50,
   "id": "13ee0f5a",
   "metadata": {},
   "outputs": [],
   "source": [
    "import torch"
   ]
  },
  {
   "cell_type": "markdown",
   "id": "9bf2da08",
   "metadata": {},
   "source": [
    "torch.arange(n)操作能够生成一个行向量，这个行向量包含从0开始的前n个整数："
   ]
  },
  {
   "cell_type": "code",
   "execution_count": 51,
   "id": "e571c65e",
   "metadata": {},
   "outputs": [
    {
     "data": {
      "text/plain": [
       "tensor([ 0,  1,  2,  3,  4,  5,  6,  7,  8,  9, 10, 11])"
      ]
     },
     "execution_count": 51,
     "metadata": {},
     "output_type": "execute_result"
    }
   ],
   "source": [
    "x = torch.arange(12)\n",
    "x"
   ]
  },
  {
   "cell_type": "markdown",
   "id": "da1ff08f",
   "metadata": {},
   "source": [
    "x.shape可以访问向量的形状："
   ]
  },
  {
   "cell_type": "code",
   "execution_count": 52,
   "id": "d7584aa3",
   "metadata": {},
   "outputs": [
    {
     "data": {
      "text/plain": [
       "torch.Size([12])"
      ]
     },
     "execution_count": 52,
     "metadata": {},
     "output_type": "execute_result"
    }
   ],
   "source": [
    "x.shape"
   ]
  },
  {
   "cell_type": "markdown",
   "id": "3ffefc32",
   "metadata": {},
   "source": [
    "x.numel可以访问向量的总个数，即行x列："
   ]
  },
  {
   "cell_type": "code",
   "execution_count": 53,
   "id": "6eb4a457",
   "metadata": {},
   "outputs": [
    {
     "data": {
      "text/plain": [
       "12"
      ]
     },
     "execution_count": 53,
     "metadata": {},
     "output_type": "execute_result"
    }
   ],
   "source": [
    "x.numel()"
   ]
  },
  {
   "cell_type": "markdown",
   "id": "88348cf8",
   "metadata": {},
   "source": [
    "x.reshape(x,y)可以将张量x变成x行y列的矩阵，而不改变其元素的值：“"
   ]
  },
  {
   "cell_type": "code",
   "execution_count": 54,
   "id": "862cd70c",
   "metadata": {},
   "outputs": [
    {
     "data": {
      "text/plain": [
       "tensor([[ 0,  1,  2,  3],\n",
       "        [ 4,  5,  6,  7],\n",
       "        [ 8,  9, 10, 11]])"
      ]
     },
     "execution_count": 54,
     "metadata": {},
     "output_type": "execute_result"
    }
   ],
   "source": [
    "X = x.reshape(3, 4)\n",
    "X"
   ]
  },
  {
   "cell_type": "markdown",
   "id": "ef541f92",
   "metadata": {},
   "source": [
    "可以通过利用-1来自动计算维度："
   ]
  },
  {
   "cell_type": "code",
   "execution_count": 55,
   "id": "b3498efc",
   "metadata": {},
   "outputs": [
    {
     "data": {
      "text/plain": [
       "tensor([[ 0,  1,  2,  3,  4,  5],\n",
       "        [ 6,  7,  8,  9, 10, 11]])"
      ]
     },
     "execution_count": 55,
     "metadata": {},
     "output_type": "execute_result"
    }
   ],
   "source": [
    "X = x.reshape(2, -1)\n",
    "X"
   ]
  },
  {
   "cell_type": "markdown",
   "id": "5c272387",
   "metadata": {},
   "source": [
    "我们可以通过torch.zeros((x,y,z))来生成一个全为0的向量："
   ]
  },
  {
   "cell_type": "code",
   "execution_count": 56,
   "id": "ba963d4e",
   "metadata": {},
   "outputs": [
    {
     "data": {
      "text/plain": [
       "tensor([[[0., 0., 0., 0.],\n",
       "         [0., 0., 0., 0.],\n",
       "         [0., 0., 0., 0.]],\n",
       "\n",
       "        [[0., 0., 0., 0.],\n",
       "         [0., 0., 0., 0.],\n",
       "         [0., 0., 0., 0.]]])"
      ]
     },
     "execution_count": 56,
     "metadata": {},
     "output_type": "execute_result"
    }
   ],
   "source": [
    "x = torch.zeros((2,3,4))\n",
    "x"
   ]
  },
  {
   "cell_type": "markdown",
   "id": "2abc7090",
   "metadata": {},
   "source": [
    "同样，我们也可以通过torch.ones((x,y,z))生成一个全为1的向量："
   ]
  },
  {
   "cell_type": "code",
   "execution_count": 57,
   "id": "4ba644d4",
   "metadata": {},
   "outputs": [
    {
     "data": {
      "text/plain": [
       "tensor([[1., 1., 1., 1., 1., 1.],\n",
       "        [1., 1., 1., 1., 1., 1.],\n",
       "        [1., 1., 1., 1., 1., 1.],\n",
       "        [1., 1., 1., 1., 1., 1.],\n",
       "        [1., 1., 1., 1., 1., 1.]])"
      ]
     },
     "execution_count": 57,
     "metadata": {},
     "output_type": "execute_result"
    }
   ],
   "source": [
    "x = torch.ones((5,6))\n",
    "x"
   ]
  },
  {
   "cell_type": "markdown",
   "id": "6c55e69a",
   "metadata": {},
   "source": [
    "## 运算\n",
    "+，-，*，/，**都是按元素运算"
   ]
  },
  {
   "cell_type": "code",
   "execution_count": 58,
   "id": "9f3f2464",
   "metadata": {},
   "outputs": [
    {
     "data": {
      "text/plain": [
       "(tensor([3, 4, 5, 6]),\n",
       " tensor([-1,  0,  1,  2]),\n",
       " tensor([2, 4, 6, 8]),\n",
       " tensor([0.5000, 1.0000, 1.5000, 2.0000]),\n",
       " tensor([ 1,  4,  9, 16]))"
      ]
     },
     "execution_count": 58,
     "metadata": {},
     "output_type": "execute_result"
    }
   ],
   "source": [
    "x = torch.tensor([1, 2, 3, 4])\n",
    "y = torch.tensor([2, 2, 2, 2])\n",
    "# 这两个向量的大小一定要匹配，否则报错\n",
    "x + y, x - y, x * y, x / y, x ** y"
   ]
  },
  {
   "cell_type": "code",
   "execution_count": 59,
   "id": "acf67353",
   "metadata": {},
   "outputs": [
    {
     "data": {
      "text/plain": [
       "tensor([ 2.7183,  7.3891, 20.0855, 54.5982])"
      ]
     },
     "execution_count": 59,
     "metadata": {},
     "output_type": "execute_result"
    }
   ],
   "source": [
    "torch.exp(x)"
   ]
  },
  {
   "cell_type": "markdown",
   "id": "ea3d5963",
   "metadata": {},
   "source": [
    "利用torch.cat((x,y), dim=n)能将两个矩阵连结在一起，n表示在第n个方向上连结，即新矩阵的第n个方向的长度为两个旧矩阵长度的和，其他方向上的长度不变"
   ]
  },
  {
   "cell_type": "code",
   "execution_count": 60,
   "id": "a6a14ef7",
   "metadata": {},
   "outputs": [
    {
     "data": {
      "text/plain": [
       "(tensor([[ 0.,  1.,  2.,  3.],\n",
       "         [ 4.,  5.,  6.,  7.],\n",
       "         [ 8.,  9., 10., 11.],\n",
       "         [ 2.,  1.,  4.,  3.],\n",
       "         [ 1.,  2.,  3.,  4.],\n",
       "         [ 4.,  3.,  2.,  1.]]),\n",
       " tensor([[ 0.,  1.,  2.,  3.,  2.,  1.,  4.,  3.],\n",
       "         [ 4.,  5.,  6.,  7.,  1.,  2.,  3.,  4.],\n",
       "         [ 8.,  9., 10., 11.,  4.,  3.,  2.,  1.]]))"
      ]
     },
     "execution_count": 60,
     "metadata": {},
     "output_type": "execute_result"
    }
   ],
   "source": [
    "x = torch.arange(12).reshape(3, 4)\n",
    "y = torch.tensor([[2.0, 1, 4, 3], [1, 2, 3, 4], [4, 3, 2, 1]])\n",
    "torch.cat((x, y), dim=0), torch.cat((x, y), dim=1)"
   ]
  },
  {
   "cell_type": "markdown",
   "id": "987659a1",
   "metadata": {},
   "source": [
    "利用 == 可以判断逐个位置判断两个张量在相应位置上的值是否相同"
   ]
  },
  {
   "cell_type": "code",
   "execution_count": 61,
   "id": "3d705fe7",
   "metadata": {},
   "outputs": [
    {
     "data": {
      "text/plain": [
       "tensor([[False,  True, False,  True],\n",
       "        [False, False, False, False],\n",
       "        [False, False, False, False]])"
      ]
     },
     "execution_count": 61,
     "metadata": {},
     "output_type": "execute_result"
    }
   ],
   "source": [
    "x == y"
   ]
  },
  {
   "cell_type": "markdown",
   "id": "43f38e08",
   "metadata": {},
   "source": [
    "对张量使用sum()方法可以生成一个单元素张量，值为原张量中所有元素的和"
   ]
  },
  {
   "cell_type": "code",
   "execution_count": 47,
   "id": "e33c0e7c",
   "metadata": {},
   "outputs": [
    {
     "data": {
      "text/plain": [
       "tensor(66)"
      ]
     },
     "execution_count": 47,
     "metadata": {},
     "output_type": "execute_result"
    }
   ],
   "source": [
    "x.sum()"
   ]
  },
  {
   "cell_type": "markdown",
   "id": "28c8785d",
   "metadata": {},
   "source": [
    "## 广播机制\n",
    "两个形状不同的张量进行运算后，通过复制行/列使两个张量形状相同后再进行运算："
   ]
  },
  {
   "cell_type": "code",
   "execution_count": 65,
   "id": "be402e84",
   "metadata": {},
   "outputs": [
    {
     "data": {
      "text/plain": [
       "(tensor([[1, 2, 3]]),\n",
       " tensor([[1],\n",
       "         [2]]),\n",
       " tensor([[2, 3, 4],\n",
       "         [3, 4, 5]]),\n",
       " tensor([[ 0,  1,  2],\n",
       "         [-1,  0,  1]]),\n",
       " tensor([[1, 2, 3],\n",
       "         [2, 4, 6]]),\n",
       " tensor([[1.0000, 2.0000, 3.0000],\n",
       "         [0.5000, 1.0000, 1.5000]]),\n",
       " tensor([[1, 2, 3],\n",
       "         [1, 4, 9]]))"
      ]
     },
     "execution_count": 65,
     "metadata": {},
     "output_type": "execute_result"
    }
   ],
   "source": [
    "x = torch.tensor([1, 2, 3]).reshape(1, 3)\n",
    "y = torch.tensor([1, 2]).reshape(2, 1)\n",
    "# x复制行，y复制列后两者形状相同\n",
    "x, y, x + y, x - y, x * y, x / y, x ** y"
   ]
  },
  {
   "cell_type": "markdown",
   "id": "967794b6",
   "metadata": {},
   "source": [
    "## 索引\n",
    "第一个元素的索引为0，最后一个元素的索引为-1，可以用[a:b]选择从第a个到第b个（不含）的元素："
   ]
  },
  {
   "cell_type": "code",
   "execution_count": 67,
   "id": "03d12e9f",
   "metadata": {},
   "outputs": [
    {
     "data": {
      "text/plain": [
       "(tensor([[ 0,  1,  2],\n",
       "         [ 3,  4,  5],\n",
       "         [ 6,  7,  8],\n",
       "         [ 9, 10, 11]]),\n",
       " tensor([0, 1, 2]),\n",
       " tensor([ 9, 10, 11]),\n",
       " tensor([[3, 4, 5],\n",
       "         [6, 7, 8]]),\n",
       " tensor([[4],\n",
       "         [7]]),\n",
       " tensor([[ 1],\n",
       "         [ 4],\n",
       "         [ 7],\n",
       "         [10]]),\n",
       " tensor([3, 4, 5]))"
      ]
     },
     "execution_count": 67,
     "metadata": {},
     "output_type": "execute_result"
    }
   ],
   "source": [
    "x = torch.arange(12).reshape(4,3)\n",
    "x, x[0], x[-1], x[1:3], x[1:3, 1:2], x[:, 1:2], x[1, :]"
   ]
  },
  {
   "cell_type": "markdown",
   "id": "cecf797f",
   "metadata": {},
   "source": [
    "除此以外，我们也可以通过指定索引来将元素写入矩阵："
   ]
  },
  {
   "cell_type": "code",
   "execution_count": 68,
   "id": "b73c9dce",
   "metadata": {},
   "outputs": [
    {
     "data": {
      "text/plain": [
       "tensor([[  0,   1,   2],\n",
       "        [  3,   4, 100],\n",
       "        [  6,   7,   8],\n",
       "        [  9,  10,  11]])"
      ]
     },
     "execution_count": 68,
     "metadata": {},
     "output_type": "execute_result"
    }
   ],
   "source": [
    "x[1, 2] = 100\n",
    "x"
   ]
  },
  {
   "cell_type": "markdown",
   "id": "79180e34",
   "metadata": {},
   "source": [
    "我们也可以通过索引所有元素来批量赋值："
   ]
  },
  {
   "cell_type": "code",
   "execution_count": 72,
   "id": "14348760",
   "metadata": {},
   "outputs": [
    {
     "data": {
      "text/plain": [
       "tensor([[     0,      1,      2],\n",
       "        [     3,      4,    100],\n",
       "        [114514, 114514, 114514],\n",
       "        [114514, 114514, 114514]])"
      ]
     },
     "execution_count": 72,
     "metadata": {},
     "output_type": "execute_result"
    }
   ],
   "source": [
    "x[2: , :] = 114514\n",
    "x"
   ]
  },
  {
   "cell_type": "markdown",
   "id": "4da98dbf",
   "metadata": {},
   "source": [
    "## 节省内存\n",
    "在Python中，y = x + y 这一操作可能会改变y指向的内存，原因是Python会先计算x + y，为结果分配一个新的内存，再将y指向内存中的新位置："
   ]
  },
  {
   "cell_type": "code",
   "execution_count": 74,
   "id": "611f7452",
   "metadata": {},
   "outputs": [
    {
     "data": {
      "text/plain": [
       "False"
      ]
     },
     "execution_count": 74,
     "metadata": {},
     "output_type": "execute_result"
    }
   ],
   "source": [
    "y = torch.zeros_like(x)\n",
    "before = id(y)\n",
    "y = x + y\n",
    "before == id(y)"
   ]
  },
  {
   "cell_type": "markdown",
   "id": "a308fd05",
   "metadata": {},
   "source": [
    "但是在大部分情况下，我们希望执行原地操作，即在原地址上修改y的值，这时候我们可以采用以下这两种方法："
   ]
  },
  {
   "cell_type": "code",
   "execution_count": 75,
   "id": "5561b191",
   "metadata": {},
   "outputs": [
    {
     "data": {
      "text/plain": [
       "True"
      ]
     },
     "execution_count": 75,
     "metadata": {},
     "output_type": "execute_result"
    }
   ],
   "source": [
    "before = id(y)\n",
    "y[:] = x + y\n",
    "before == id(y)"
   ]
  },
  {
   "cell_type": "code",
   "execution_count": 76,
   "id": "9accffc2",
   "metadata": {},
   "outputs": [
    {
     "data": {
      "text/plain": [
       "True"
      ]
     },
     "execution_count": 76,
     "metadata": {},
     "output_type": "execute_result"
    }
   ],
   "source": [
    "before = id(y)\n",
    "y += x\n",
    "before == id(y)"
   ]
  },
  {
   "cell_type": "markdown",
   "id": "7fb9cc55",
   "metadata": {},
   "source": [
    "## 类型转换\n",
    "要将大小为1的张量转换为Python标量，我们可以调用item函数或Python的内置函数："
   ]
  },
  {
   "cell_type": "code",
   "execution_count": 77,
   "id": "b6af964e",
   "metadata": {},
   "outputs": [
    {
     "data": {
      "text/plain": [
       "(tensor([114514]), 114514, 114514, 114514.0)"
      ]
     },
     "execution_count": 77,
     "metadata": {},
     "output_type": "execute_result"
    }
   ],
   "source": [
    "x = torch.tensor([114514])\n",
    "x, x.item(), int(x), float(x)"
   ]
  }
 ],
 "metadata": {
  "kernelspec": {
   "display_name": "Python 3",
   "language": "python",
   "name": "python3"
  },
  "language_info": {
   "codemirror_mode": {
    "name": "ipython",
    "version": 3
   },
   "file_extension": ".py",
   "mimetype": "text/x-python",
   "name": "python",
   "nbconvert_exporter": "python",
   "pygments_lexer": "ipython3",
   "version": "3.10.18"
  }
 },
 "nbformat": 4,
 "nbformat_minor": 5
}
