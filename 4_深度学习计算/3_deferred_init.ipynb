{
 "cells": [
  {
   "cell_type": "markdown",
   "id": "cf110fc6",
   "metadata": {},
   "source": [
    "# 延后初始化\n",
    "框架的延后初始化（defers initialization），即直到数据第一次通过模型传递时，框架才会动态地推断出每个层的大小。\n",
    "\n",
    "在以后，当使用卷积神经网络时，由于输入维度（即图像的分辨率）将影响每个后续层的维数，有了该技术将更加方便。现在我们在编写代码时无须知道维度是什么就可以设置参数，这种能力可以大大简化定义和修改模型的任务。接下来，我们将更深入地研究初始化机制。\n",
    "## 实例化网络\n",
    "首先，让我们实例化一个多层感知机。"
   ]
  },
  {
   "cell_type": "code",
   "execution_count": 2,
   "id": "6247342a",
   "metadata": {},
   "outputs": [
    {
     "data": {
      "text/plain": [
       "Sequential(\n",
       "  (0): LazyLinear(in_features=0, out_features=256, bias=True)\n",
       "  (1): ReLU()\n",
       "  (2): Linear(in_features=256, out_features=10, bias=True)\n",
       ")"
      ]
     },
     "execution_count": 2,
     "metadata": {},
     "output_type": "execute_result"
    }
   ],
   "source": [
    "import torch\n",
    "from torch import nn\n",
    "# 在 PyTorch 中，nn.LazyLinear 是一个延后初始化的线性层，它在第一次前向传播时会自动推断输入特征的大小。\n",
    "net = nn.Sequential(nn.LazyLinear(256), nn.ReLU(),nn.Linear(256,10))\n",
    "net"
   ]
  },
  {
   "cell_type": "markdown",
   "id": "661fda56",
   "metadata": {},
   "source": [
    "此时，因为输入维数是未知的，所以网络不可能知道输入层权重的维数。因此，框架尚未初始化任何参数，我们通过尝试访问以下参数进行确认。"
   ]
  },
  {
   "cell_type": "code",
   "execution_count": 7,
   "id": "2ca54837",
   "metadata": {},
   "outputs": [
    {
     "data": {
      "text/plain": [
       "([OrderedDict([('weight', <UninitializedParameter>),\n",
       "               ('bias', <UninitializedParameter>)]),\n",
       "  OrderedDict(),\n",
       "  OrderedDict([('weight',\n",
       "                tensor([[ 0.0506, -0.0086, -0.0197,  ...,  0.0607, -0.0364, -0.0078],\n",
       "                        [-0.0352, -0.0223,  0.0352,  ..., -0.0179,  0.0226, -0.0293],\n",
       "                        [-0.0120, -0.0024, -0.0057,  ...,  0.0605,  0.0416,  0.0039],\n",
       "                        ...,\n",
       "                        [ 0.0319, -0.0461, -0.0398,  ..., -0.0402, -0.0599, -0.0141],\n",
       "                        [-0.0227, -0.0535, -0.0123,  ..., -0.0523,  0.0532,  0.0570],\n",
       "                        [-0.0252, -0.0276,  0.0174,  ...,  0.0569,  0.0271,  0.0223]])),\n",
       "               ('bias',\n",
       "                tensor([-0.0521,  0.0265, -0.0226,  0.0510, -0.0022, -0.0150, -0.0408, -0.0356,\n",
       "                        -0.0168,  0.0497]))])],\n",
       " tensor([]))"
      ]
     },
     "execution_count": 7,
     "metadata": {},
     "output_type": "execute_result"
    }
   ],
   "source": [
    "[net[i].state_dict() for i in range(len(net))], net[0].weight.data"
   ]
  },
  {
   "cell_type": "markdown",
   "id": "f72f4bd2",
   "metadata": {},
   "source": [
    "接下来让我们将数据通过网络，最终使框架初始化参数。"
   ]
  },
  {
   "cell_type": "code",
   "execution_count": 8,
   "id": "743c1b8b",
   "metadata": {},
   "outputs": [
    {
     "data": {
      "text/plain": [
       "Sequential(\n",
       "  (0): Linear(in_features=20, out_features=256, bias=True)\n",
       "  (1): ReLU()\n",
       "  (2): Linear(in_features=256, out_features=10, bias=True)\n",
       ")"
      ]
     },
     "execution_count": 8,
     "metadata": {},
     "output_type": "execute_result"
    }
   ],
   "source": [
    "low = torch.finfo(torch.float32).min/10\n",
    "high = torch.finfo(torch.float32).max/10\n",
    "X = torch.zeros([2,20],dtype=torch.float32).uniform_(low, high)\n",
    "net(X)\n",
    "net"
   ]
  },
  {
   "cell_type": "markdown",
   "id": "ba52d49b",
   "metadata": {},
   "source": [
    "一旦我们知道输入维数是20，框架可以通过代入值20来识别第一层权重矩阵的形状。识别出第一层的形状后，框架处理第二层，依此类推，直到所有形状都已知为止。注意，在这种情况下，只有第一层需要延迟初始化，但是框架仍是按顺序初始化的。等到知道了所有的参数形状，框架就可以初始化参数。"
   ]
  }
 ],
 "metadata": {
  "kernelspec": {
   "display_name": "Python 3",
   "language": "python",
   "name": "python3"
  },
  "language_info": {
   "codemirror_mode": {
    "name": "ipython",
    "version": 3
   },
   "file_extension": ".py",
   "mimetype": "text/x-python",
   "name": "python",
   "nbconvert_exporter": "python",
   "pygments_lexer": "ipython3",
   "version": "3.10.18"
  }
 },
 "nbformat": 4,
 "nbformat_minor": 5
}
